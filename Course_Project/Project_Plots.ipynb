{
 "cells": [
  {
   "cell_type": "markdown",
   "id": "7bd87f6a-84a3-4d28-a4a5-5f9bb8ca83e3",
   "metadata": {},
   "source": [
    "# Project plots\n",
    "Containing programs for plotting."
   ]
  },
  {
   "cell_type": "code",
   "execution_count": 53,
   "id": "0e2656ed-9ad3-490e-b063-343806b818b0",
   "metadata": {},
   "outputs": [],
   "source": [
    "import pandas as pd\n",
    "import seaborn as sns\n",
    "import matplotlib.pyplot as plt\n",
    "from matplotlib.colors import to_rgb\n",
    "import numpy as np\n",
    "\n",
    "def load_pareto_info_dict():\n",
    "    ''' Load the Pareto solutions information dictionary. '''\n",
    "    pareto_info_dict = pd.read_pickle('pareto_info_dict.pkl')\n",
    "    path_and_attack_properties_df = pareto_info_dict['path_and_attack_properties_df']\n",
    "    pareto_optimals = pareto_info_dict['pareto_optimals']\n",
    "    pareto_fronts = pareto_info_dict['pareto_fronts']\n",
    "    \n",
    "    return path_and_attack_properties_df, pareto_optimals, pareto_fronts"
   ]
  },
  {
   "cell_type": "code",
   "execution_count": 54,
   "id": "a4499c9e-29b7-41ca-ad87-17336b3f3a2c",
   "metadata": {},
   "outputs": [],
   "source": [
    "def interpolate_color(start_color, end_color, steps):\n",
    "    ''' Custom color gradient function. '''\n",
    "    start_rgb = np.array(to_rgb(start_color))\n",
    "    end_rgb = np.array(to_rgb(end_color))\n",
    "    colors = [(start_rgb + (end_rgb - start_rgb) * i / (steps - 1)).tolist() for i in range(steps)]\n",
    "    \n",
    "    return colors\n",
    "\n",
    "def generate_gradient_colors():\n",
    "    ''' Generate 10 gradient colors of green, yellow and red. '''\n",
    "    green_col = '#4ca648'\n",
    "    yellow_col = '#d9a300'\n",
    "    red_col = '#c04b4b'\n",
    "    gradient_colors = interpolate_color(green_col, yellow_col, 5) + interpolate_color(yellow_col, red_col, 5)\n",
    "    \n",
    "    return gradient_colors\n",
    "\n",
    "def plot_multiple_pareto_fronts(df=path_and_attack_properties_df, pareto_fronts=pareto_fronts, criteria1='Success coefficient', criteria2='Expected troop number'):\n",
    "    ''' Visualize multiple Pareto fronts with gradient colors. '''\n",
    "    sns.set_theme(style='darkgrid')\n",
    "    plt.figure(figsize=(10, 7))\n",
    "    gradient_colors = generate_gradient_colors()\n",
    "    \n",
    "    # Plot all metrics in scatter plot. \n",
    "    sns.scatterplot(x=criteria1, y=criteria2, data=df,\n",
    "                    color='gray', alpha=0.3, label='All Points',)\n",
    "    \n",
    "    # Color Pareto front points.\n",
    "    for i, pareto_front in enumerate(pareto_fronts):\n",
    "        sns.scatterplot(x=criteria1, y=criteria2, data=pareto_front,\n",
    "                        color=gradient_colors[i], label=f'Pareto Front {i+1}', alpha=0.8,)\n",
    "        \n",
    "        # Sort and plot the line for the Pareto front.\n",
    "        pareto_front_sorted = pareto_front.sort_values(by=criteria1)\n",
    "        plt.plot(pareto_front_sorted[criteria1], pareto_front_sorted[criteria2],\n",
    "                 color=gradient_colors[i], linestyle=\"--\", alpha=0.8,)\n",
    "    \n",
    "    # Set labels and title.\n",
    "    plt.xticks(rotation=45)\n",
    "    plt.xlabel(criteria1, fontsize=12)\n",
    "    plt.ylabel(criteria2, fontsize=12)\n",
    "    plt.title('First 10 Pareto fronts of solutions for conquering the graph', fontsize=14)\n",
    "    \n",
    "    # Move the legend to the right of the plot.\n",
    "    plt.legend(bbox_to_anchor=(1.05, 0.5), loc='center left', borderaxespad=0.)\n",
    "    plt.tight_layout()\n",
    "    plt.show()"
   ]
  },
  {
   "cell_type": "code",
   "execution_count": 55,
   "id": "b69b6c4c-cd33-430b-90f0-456940e4f41f",
   "metadata": {
    "tags": []
   },
   "outputs": [],
   "source": [
    "def generate_pareto_optimal_bar_plot():\n",
    "    ''' Generates a bar plot with the first Pareto front and its metrics. '''\n",
    "    # Combine node path and choice of nodes to attack from.\n",
    "    pareto_optimals['combined'] = pareto_optimals.apply(\n",
    "        lambda row: f\"{row['Node path']}\\n{row['Attacking nodes']}\", axis=1)\n",
    "    pareto_optimals['combined']\n",
    "    \n",
    "    # Create the figure and axis objects.\n",
    "    fig, ax1 = plt.subplots(figsize=(14, 8))\n",
    "\n",
    "    # Plot the red bars (Expected troop number) on the left y-axis.\n",
    "    ax1.bar(pareto_optimals['combined'], pareto_optimals['Expected troop number'], \n",
    "            color='#c04b4b', label='Expected troop number', alpha=0.8, width=0.4, align='center')\n",
    "    ax1.set_ylabel('Expected troop number', color='black', fontsize=14, labelpad=10)\n",
    "    ax1.tick_params(axis='y', labelcolor='black')\n",
    "\n",
    "    # Create a second y-axis for the green bars (Success coefficient).\n",
    "    ax2 = ax1.twinx()\n",
    "    ax2.bar(pareto_optimals['combined'], pareto_optimals['Success coefficient'], \n",
    "            color='#4ca648', label='Success coefficient', alpha=0.8, width=0.4, align='edge')\n",
    "    ax2.set_ylabel('Success coefficient', color='black', fontsize=14, labelpad=15)\n",
    "    ax2.tick_params(axis='y', labelcolor='black')\n",
    "\n",
    "    # Set xticks.\n",
    "    ax1.set_xticks(range(len(pareto_optimals['combined'])))\n",
    "    ax1.set_xticklabels(pareto_optimals['combined'], rotation=45, ha='right', fontsize=10)\n",
    "\n",
    "    # Customize the plot title.\n",
    "    ax1.set_xlabel('Options for order of territories to attack and which territories to attack from', fontsize=18)\n",
    "    plt.title('Optimal decisions for conquering the graph', fontsize=20)\n",
    "\n",
    "    # Add legends for both y-axes.\n",
    "    fig.legend(loc='upper right', bbox_to_anchor=(0.4, 0.5), fontsize=14, title='Metric', title_fontsize=14)\n",
    "\n",
    "    # Ensure layout is adjusted for the legend and rotated x-tick labels.\n",
    "    plt.tight_layout()\n",
    "\n",
    "    # Show the plot.\n",
    "    plt.show()"
   ]
  },
  {
   "cell_type": "code",
   "execution_count": 56,
   "id": "48e04bbd-67db-4d69-8567-ca4bafe0027e",
   "metadata": {},
   "outputs": [],
   "source": [
    "path_and_attack_properties_df, pareto_optimals, pareto_fronts = load_pareto_info_dict()"
   ]
  },
  {
   "cell_type": "code",
   "execution_count": null,
   "id": "c2f10c54-4cfa-4c9e-8b84-a0137d8511cb",
   "metadata": {},
   "outputs": [],
   "source": []
  }
 ],
 "metadata": {
  "kernelspec": {
   "display_name": "Python 3 (ipykernel)",
   "language": "python",
   "name": "python3"
  },
  "language_info": {
   "codemirror_mode": {
    "name": "ipython",
    "version": 3
   },
   "file_extension": ".py",
   "mimetype": "text/x-python",
   "name": "python",
   "nbconvert_exporter": "python",
   "pygments_lexer": "ipython3",
   "version": "3.11.5"
  }
 },
 "nbformat": 4,
 "nbformat_minor": 5
}
