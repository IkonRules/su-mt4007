{
 "cells": [
  {
   "cell_type": "markdown",
   "id": "45f32682-20c9-4d38-a7ef-64ac712fefac",
   "metadata": {},
   "source": [
    "# Generate and load data\n",
    "Program for generating data by sequentially executing the programs. Intended to be used in case of missing data or for testing the programs. Programs to be executed:\n",
    "\n",
    "- Monte_Carlo_Battle_Sims\n",
    "- Event_Chain_Aggr\n",
    "- Pareto_Optimization"
   ]
  },
  {
   "cell_type": "code",
   "execution_count": 1,
   "id": "9204a14a-43f0-413e-b926-5a84b67b6098",
   "metadata": {
    "tags": []
   },
   "outputs": [],
   "source": [
    "def generate_data():\n",
    "    print('Beginning to generate data...')\n",
    "    print('Generating battle data from Monte_Carlo_Battle_Sims...')\n",
    "    %run Monte_Carlo_Battle_Sims.ipynb\n",
    "    generate_battle_data()\n",
    "    print('Battle data generation from Monte_Carlo_Battle_Sims is completed.')\n",
    "    print('Generating event chain data from Event_Chain_Aggr...')\n",
    "    %run Event_Chain_Aggr.ipynb\n",
    "    generate_event_chains()\n",
    "    print('Event chain data generation from Event_Chain_Aggr is completed.')\n",
    "    print('Generating Pareto optimization data from Pareto_Optimization...')\n",
    "    %run Pareto_Optimization.ipynb\n",
    "    generate_pareto_solutions()\n",
    "    print('Pareto optimization data generated from Pareto_Optimization is completed.')\n",
    "    print('All data have been loaded, good to go!')"
   ]
  },
  {
   "cell_type": "code",
   "execution_count": null,
   "id": "ef74fc9c-e876-478e-8035-44c6d1a3c888",
   "metadata": {},
   "outputs": [],
   "source": [
    "generate_data()"
   ]
  }
 ],
 "metadata": {
  "kernelspec": {
   "display_name": "Python 3 (ipykernel)",
   "language": "python",
   "name": "python3"
  },
  "language_info": {
   "codemirror_mode": {
    "name": "ipython",
    "version": 3
   },
   "file_extension": ".py",
   "mimetype": "text/x-python",
   "name": "python",
   "nbconvert_exporter": "python",
   "pygments_lexer": "ipython3",
   "version": "3.11.5"
  }
 },
 "nbformat": 4,
 "nbformat_minor": 5
}
