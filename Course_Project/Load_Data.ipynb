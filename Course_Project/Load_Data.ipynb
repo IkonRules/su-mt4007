{
 "cells": [
  {
   "cell_type": "markdown",
   "id": "45f32682-20c9-4d38-a7ef-64ac712fefac",
   "metadata": {},
   "source": [
    "# Generate and load data\n",
    "Program for generating data by sequentially executing the programs. Intended to be used in case of missing data or for testing the programs. Programs to be executed:\n",
    "\n",
    "- Monte_Carlo_Battle_Sims\n",
    "- Event_Chain_Aggr\n",
    "- Pareto_Optimization"
   ]
  },
  {
   "cell_type": "code",
   "execution_count": 1,
   "id": "9204a14a-43f0-413e-b926-5a84b67b6098",
   "metadata": {
    "tags": []
   },
   "outputs": [],
   "source": [
    "def generate_data():\n",
    "    print('Beginning to generate data...')\n",
    "    print('Generating battle data from Monte_Carlo_Battle_Sims...')\n",
    "    %run Monte_Carlo_Battle_Sims.ipynb\n",
    "    generate_battle_data()\n",
    "    print('Battle data generation from Monte_Carlo_Battle_Sims is completed.')\n",
    "    print('Generating event chain data from Event_Chain_Aggr...')\n",
    "    %run Event_Chain_Aggr.ipynb\n",
    "    generate_event_chains()\n",
    "    print('Event chain data generation from Event_Chain_Aggr is completed.')\n",
    "    print('Generating Pareto optimization data from Pareto_Optimization...')\n",
    "    %run Pareto_Optimization.ipynb\n",
    "    generate_pareto_solutions()\n",
    "    print('Pareto optimization data generated from Pareto_Optimization is completed.')\n",
    "    print('All data have been loaded, good to go!')"
   ]
  },
  {
   "cell_type": "code",
   "execution_count": 2,
   "id": "6619c7b8-298e-4333-88f3-d3b4bab2f8ce",
   "metadata": {
    "tags": []
   },
   "outputs": [
    {
     "name": "stdout",
     "output_type": "stream",
     "text": [
      "Beginning to generate data...\n",
      "Generating battle data from Monte_Carlo_Battle_Sims...\n",
      "Battle simulations on graph M1 has been saved to \"M1_simulation_results.csv\"\n",
      "Battle simulations on graph M2 has been saved to \"M2_simulation_results.csv\"\n",
      "Battle simulations on graph M3 has been saved to \"M3_simulation_results.csv\"\n",
      "Battle data generation from Monte_Carlo_Battle_Sim is completed.\n",
      "Generating event chain data from Event_Chain_Aggr...\n",
      "100,000 event chains currently generated.\n",
      "200,000 event chains currently generated.\n",
      "300,000 event chains currently generated.\n",
      "400,000 event chains currently generated.\n",
      "500,000 event chains currently generated.\n",
      "600,000 event chains currently generated.\n",
      "700,000 event chains currently generated.\n",
      "800,000 event chains currently generated.\n",
      "900,000 event chains currently generated.\n",
      "1,000,000 event chains currently generated.\n",
      "Event chains generated.\n",
      "Event chains has been saved to \"simulation_output_df.pkl\"\n",
      "Event chain data generation from Event_Chain_Aggr is completed.\n",
      "Generating Pareto optimization data from Pareto_Optimization...\n",
      "Event chains dataframe has been loaded for Pareto optimization.\n",
      "Successful event chains have been processed.\n",
      "Pareto optimal solutions have been calculated.\n",
      "Might wanna grab a coffe here...\n",
      "Calculating Pareto front 1 of 10...\n",
      "Pareto front 1 calculated. Remaining rows: 11837\n",
      "Calculating Pareto front 2 of 10...\n",
      "Pareto front 2 calculated. Remaining rows: 11829\n",
      "Calculating Pareto front 3 of 10...\n",
      "Pareto front 3 calculated. Remaining rows: 11821\n",
      "Calculating Pareto front 4 of 10...\n",
      "Pareto front 4 calculated. Remaining rows: 11816\n",
      "Calculating Pareto front 5 of 10...\n",
      "Pareto front 5 calculated. Remaining rows: 11811\n",
      "Calculating Pareto front 6 of 10...\n",
      "Pareto front 6 calculated. Remaining rows: 11806\n",
      "Calculating Pareto front 7 of 10...\n",
      "Pareto front 7 calculated. Remaining rows: 11780\n",
      "Calculating Pareto front 8 of 10...\n",
      "Pareto front 8 calculated. Remaining rows: 11754\n",
      "Calculating Pareto front 9 of 10...\n",
      "Pareto front 9 calculated. Remaining rows: 11722\n",
      "Calculating Pareto front 10 of 10...\n",
      "Pareto front 10 calculated. Remaining rows: 11708\n",
      "Pareto fronts have been calculated\n",
      "Pareto solutions information dictionary has been created.\n",
      "Pareto solutions information dictionary has been saved to \"pareto_info_dict.pkl\".\n",
      "Pareto optimization data generated from Pareto_Optimization is completed.\n",
      "All data have been loaded, good to go!\n"
     ]
    }
   ],
   "source": [
    "generate_data()"
   ]
  },
  {
   "cell_type": "code",
   "execution_count": null,
   "id": "4a444736-306e-46e0-892e-e431e69ee8a6",
   "metadata": {},
   "outputs": [],
   "source": []
  }
 ],
 "metadata": {
  "kernelspec": {
   "display_name": "Python 3 (ipykernel)",
   "language": "python",
   "name": "python3"
  },
  "language_info": {
   "codemirror_mode": {
    "name": "ipython",
    "version": 3
   },
   "file_extension": ".py",
   "mimetype": "text/x-python",
   "name": "python",
   "nbconvert_exporter": "python",
   "pygments_lexer": "ipython3",
   "version": "3.11.5"
  }
 },
 "nbformat": 4,
 "nbformat_minor": 5
}
