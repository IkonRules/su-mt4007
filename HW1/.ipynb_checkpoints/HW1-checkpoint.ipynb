{
 "cells": [
  {
   "cell_type": "markdown",
   "id": "85d4dfd1-718e-4917-acf5-50fb33bbd71d",
   "metadata": {},
   "source": [
    "# Homework 1  \n",
    "\n",
    "My name is Kornelius,  I'm 30 years old and live in Stockholm with my wife and child. \n",
    "\n",
    "My previous experience with data science is very limited. The programming course in python along with the homework assignments in R that we did in the probability theory course is basically all of it, besides some minor projects of my own. "
   ]
  },
  {
   "cell_type": "code",
   "execution_count": null,
   "id": "9693eddc-f3d4-4b22-af66-62fbe7120bc6",
   "metadata": {},
   "outputs": [],
   "source": []
  }
 ],
 "metadata": {
  "kernelspec": {
   "display_name": "Python 3 (ipykernel)",
   "language": "python",
   "name": "python3"
  },
  "language_info": {
   "codemirror_mode": {
    "name": "ipython",
    "version": 3
   },
   "file_extension": ".py",
   "mimetype": "text/x-python",
   "name": "python",
   "nbconvert_exporter": "python",
   "pygments_lexer": "ipython3",
   "version": "3.13.0"
  }
 },
 "nbformat": 4,
 "nbformat_minor": 5
}
