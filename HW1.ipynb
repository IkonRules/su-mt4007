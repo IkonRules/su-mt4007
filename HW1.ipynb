{
 "cells": [
  {
   "cell_type": "markdown",
   "id": "85d4dfd1-718e-4917-acf5-50fb33bbd71d",
   "metadata": {},
   "source": [
    "# Homework 1  \n",
    "\n",
    "My name is Kornelius. Father to a one year old son. Husband to a great wife. Commander of the armies of the north. General of the Felix legions. Loyal to the true emperor, Marcus Aurelius. And I will have my degree -- in this life or the next.\n",
    "\n",
    "My previous experience with data science is very limited. The programming course in python along with the homework assignments in R that we did in the probability theory course is basically all of it, besides some minor projects of my own. "
   ]
  },
  {
   "cell_type": "code",
   "execution_count": null,
   "id": "4905388a-1e1b-42dc-abf5-6e1c8c78b648",
   "metadata": {},
   "outputs": [],
   "source": []
  }
 ],
 "metadata": {
  "kernelspec": {
   "display_name": "Python 3 (ipykernel)",
   "language": "python",
   "name": "python3"
  },
  "language_info": {
   "codemirror_mode": {
    "name": "ipython",
    "version": 3
   },
   "file_extension": ".py",
   "mimetype": "text/x-python",
   "name": "python",
   "nbconvert_exporter": "python",
   "pygments_lexer": "ipython3",
   "version": "3.13.0"
  }
 },
 "nbformat": 4,
 "nbformat_minor": 5
}
