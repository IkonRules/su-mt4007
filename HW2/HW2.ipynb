{
 "cells": [
  {
   "cell_type": "markdown",
   "id": "cab638e8-3784-46a6-9526-1a6b991a42f8",
   "metadata": {},
   "source": [
    "# Homework 2\n",
    "\n",
    "## Apartment prices\n",
    "In order to analyze the csv-file we start of by importing pandas and use the built in csv-reader."
   ]
  },
  {
   "cell_type": "code",
   "execution_count": 1,
   "id": "ec36a5fd-3f47-425e-8d7b-b4f040170cf2",
   "metadata": {
    "tags": []
   },
   "outputs": [],
   "source": [
    "import pandas as pd\n",
    "\n",
    "df = pd.read_csv(\"Booli_sold.csv\")"
   ]
  },
  {
   "cell_type": "markdown",
   "id": "6d26ef5f-4f91-4877-adb7-3e6c8a246411",
   "metadata": {},
   "source": [
    "In order to get an overview of the file we print the columns."
   ]
  },
  {
   "cell_type": "code",
   "execution_count": 2,
   "id": "1fdd6a3c-7556-416c-9449-8af8def422e7",
   "metadata": {
    "tags": []
   },
   "outputs": [
    {
     "name": "stdout",
     "output_type": "stream",
     "text": [
      "Index(['listPrice', 'rent', 'livingArea', 'rooms', 'published',\n",
      "       'constructionYear', 'objectType', 'booliId', 'soldDate', 'soldPrice',\n",
      "       'soldPriceSource', 'url', 'floor', 'additionalArea', 'apartmentNumber',\n",
      "       'plotArea', 'location.address.streetAddress',\n",
      "       'location.position.latitude', 'location.position.longitude',\n",
      "       'location.position.isApproximate', 'location.region.municipalityName',\n",
      "       'location.region.countyName', 'location.distance.ocean', 'source.name',\n",
      "       'source.id', 'source.type', 'source.url'],\n",
      "      dtype='object')\n"
     ]
    }
   ],
   "source": [
    "print(df.columns)"
   ]
  },
  {
   "cell_type": "markdown",
   "id": "b6d95b0e-6e5d-45e1-8f5c-314a69ed68cf",
   "metadata": {},
   "source": [
    "### Top 5 most expensive apartments (ppsqm)\n",
    "\n",
    "Since the price per square meter (ppsqm) is a function of the the living area and the sold price we create a new column called 'ppsqm' and for convenience round the number of decimals to 3."
   ]
  },
  {
   "cell_type": "code",
   "execution_count": 3,
   "id": "ff1ece4a-f715-4323-be44-10a70755e81e",
   "metadata": {
    "tags": []
   },
   "outputs": [],
   "source": [
    "df['ppsqm'] = round(df['soldPrice'] / df['livingArea'], 3)"
   ]
  },
  {
   "cell_type": "markdown",
   "id": "080e96a7-08d8-49a7-b671-3147ba07b1c1",
   "metadata": {},
   "source": [
    "We proceed to sort the rows in descending order based on the ppsqm and study the top adresses."
   ]
  },
  {
   "cell_type": "code",
   "execution_count": 4,
   "id": "c6fdfbfe-af25-47b7-b98d-dc684e94984e",
   "metadata": {
    "tags": []
   },
   "outputs": [
    {
     "name": "stdout",
     "output_type": "stream",
     "text": [
      "    location.address.streetAddress       ppsqm  soldPrice\n",
      "67                   Ekhagsvägen 8  104166.667    2500000\n",
      "50                   Ekhagsvägen 8  102083.333    2450000\n",
      "54                  Ekhagsvägen 10  100000.000    2300000\n",
      "34                 Torphagsvägen 4   88400.000    2210000\n",
      "55                 Docentbacken 1B   85501.859    2300000\n",
      "..                             ...         ...        ...\n",
      "93                   Ekhagsvägen 5   39230.769    3570000\n",
      "141                  Ekhagsvägen 6   37246.377    2570000\n",
      "146                 Docentbacken 5   35714.286    3500000\n",
      "151                Docentbacken 13   35714.286    2250000\n",
      "102                  Ekhagsvägen 5         NaN    3135000\n",
      "\n",
      "[158 rows x 3 columns]\n"
     ]
    }
   ],
   "source": [
    "df_sorted = df.sort_values(by='ppsqm', ascending=False)\n",
    "sorted_filtered = df_sorted[['location.address.streetAddress','ppsqm','soldPrice']]\n",
    "print(sorted_filtered)"
   ]
  },
  {
   "cell_type": "markdown",
   "id": "d3abdd89-2092-4572-b379-d599e8d6545d",
   "metadata": {},
   "source": [
    "We then focus only on the top 5 most expensive adresses. In order to create a neat table we change the name of the columns. For reference we also include the total sold price for the apartment."
   ]
  },
  {
   "cell_type": "code",
   "execution_count": 5,
   "id": "2cd8ed00-eea1-415e-9179-87925a5c17a7",
   "metadata": {
    "tags": []
   },
   "outputs": [
    {
     "name": "stdout",
     "output_type": "stream",
     "text": [
      "            Address  Price per sqm  Sold Price\n",
      "67    Ekhagsvägen 8     104166.667     2500000\n",
      "50    Ekhagsvägen 8     102083.333     2450000\n",
      "54   Ekhagsvägen 10     100000.000     2300000\n",
      "34  Torphagsvägen 4      88400.000     2210000\n",
      "55  Docentbacken 1B      85501.859     2300000\n"
     ]
    }
   ],
   "source": [
    "top_five = df_sorted.head(5)\n",
    "top_five_table = top_five[['location.address.streetAddress','ppsqm','soldPrice']]\n",
    "top_five_table = top_five_table.rename(columns={\n",
    "    'location.address.streetAddress' : 'Address',\n",
    "    'ppsqm' : 'Price per sqm',\n",
    "    'soldPrice' : 'Sold Price'})\n",
    "print(top_five_table)"
   ]
  },
  {
   "cell_type": "markdown",
   "id": "33f93eb0-9358-4078-9cbc-24381e20a612",
   "metadata": {},
   "source": [
    "### Average price per square meter\n",
    "\n",
    "In order to calculate the average price we simply sum the ppsqm for each property and divide by the number of properties in the file."
   ]
  },
  {
   "cell_type": "markdown",
   "id": "50530787-73af-4fdc-a6db-dc73bc9ad4ed",
   "metadata": {},
   "source": [
    "### An interesting observation\n",
    "\n",
    "When we study the complete list of adresses sorted by ppsqm we notice that the two most expensive adresses (Ekhagsvägen 8 and 10) are located on the same street and relatively close to adresses that appear in the bottom five most expensive, also on Ekhagsvägen, that is (Ekhagsvägen 5 and 6). It is strange that the most expensive and least expensive apartments are so close to each other on the same street. Especially because we are considering the price per square meter and not total price. "
   ]
  },
  {
   "cell_type": "code",
   "execution_count": 6,
   "id": "b5393d55-2d2a-4151-b134-9cc5f28b504e",
   "metadata": {
    "tags": []
   },
   "outputs": [
    {
     "name": "stdout",
     "output_type": "stream",
     "text": [
      "58387.488\n"
     ]
    }
   ],
   "source": [
    "average_ppsqm = round(df['ppsqm'].sum() / len(df), 3)\n",
    "print(average_ppsqm)"
   ]
  },
  {
   "cell_type": "markdown",
   "id": "d92c8061-c843-47bd-bae0-617c680c705d",
   "metadata": {},
   "source": [
    "We conclude the average price per square meter in Ekhagen to be 58387 kr."
   ]
  },
  {
   "cell_type": "markdown",
   "id": "35b0e0a7-19a5-43c0-b4c2-5cf7c4372242",
   "metadata": {
    "tags": []
   },
   "source": [
    "## The swedish election of 2018"
   ]
  },
  {
   "cell_type": "markdown",
   "id": "9332b489-07f8-4f92-9138-43ee092c6963",
   "metadata": {},
   "source": [
    "### Total number valid votes\n",
    "\n",
    "We start of by reading the csv-file with pandas with an extra argument changing the seperator to a semicolon and get ourselves an overview  of the columns."
   ]
  },
  {
   "cell_type": "code",
   "execution_count": 7,
   "id": "a570bd90-9374-47fd-a9d3-0c1889aab4ef",
   "metadata": {
    "tags": []
   },
   "outputs": [
    {
     "name": "stdout",
     "output_type": "stream",
     "text": [
      "Index(['LÄNSKOD', 'KOMMUNKOD', 'LÄNSNAMN', 'KOMMUNNAMN', 'M', 'C', 'L', 'KD',\n",
      "       'S', 'V', 'MP', 'SD', 'FI', 'AfS', 'BASIP', 'CSIS', 'DD', 'DjuP', 'EAP',\n",
      "       'ENH', 'FHS', 'Gup', 'INI', 'KLP', 'KrVP', 'LPo', 'MED', 'NMR', 'NORRP',\n",
      "       'NYREF', 'PP', 'RNP', 'S-FRP', 'SKP', 'SKÅ', 'TRP', 'VL-S', 'ÖVR',\n",
      "       'OGEJ', 'BLANK', 'OG', 'RÖSTER GILTIGA', 'RÖSTANDE', 'RÖSTBERÄTTIGADE',\n",
      "       'VALDELTAGANDE'],\n",
      "      dtype='object')\n"
     ]
    }
   ],
   "source": [
    "df = pd.read_csv('2018_R_per_kommun.csv', sep=';')\n",
    "print(df.columns)"
   ]
  },
  {
   "cell_type": "markdown",
   "id": "296a6a6b-6dd5-49d6-9585-d8ca7ea3821e",
   "metadata": {},
   "source": [
    "The valid votes are located in a column of its own and we are only interested in the municipalities located in Stockholms region and so we proceed to sum the votes of all municipalities in Stockholms region."
   ]
  },
  {
   "cell_type": "code",
   "execution_count": 8,
   "id": "663a6e40-4b8e-4749-bfe1-d1486936f779",
   "metadata": {
    "tags": []
   },
   "outputs": [
    {
     "name": "stdout",
     "output_type": "stream",
     "text": [
      "RÖSTER GILTIGA    1426237\n",
      "dtype: int64\n"
     ]
    }
   ],
   "source": [
    "valid_votes_sthlm = df.loc[df['LÄNSNAMN'] == 'Stockholms län', ['RÖSTER GILTIGA']].sum()\n",
    "print(valid_votes_sthlm)"
   ]
  },
  {
   "cell_type": "markdown",
   "id": "a8bbabb9-d448-4b03-8cb4-431074dd942f",
   "metadata": {},
   "source": [
    "We count a total of 1426237 valid votes."
   ]
  },
  {
   "cell_type": "markdown",
   "id": "2c01955c-87e2-41cf-b696-4e3cc11541d8",
   "metadata": {},
   "source": [
    "### Social democratic party percentages\n",
    "\n",
    "We sort by the percentages in the 'S' column of the file and filter based on the name of the municipality."
   ]
  },
  {
   "cell_type": "code",
   "execution_count": 9,
   "id": "df78335a-a863-4436-8745-2dde9d4f88cb",
   "metadata": {
    "tags": []
   },
   "outputs": [
    {
     "name": "stdout",
     "output_type": "stream",
     "text": [
      "     KOMMUNNAMN      S\n",
      "14     Danderyd   8,04\n",
      "188    Munkfors  52,18\n",
      "286       Piteå  47,48\n",
      "196     Hagfors  47,46\n",
      "279   Överkalix  46,68\n",
      "..          ...    ...\n",
      "22      Vaxholm  16,37\n",
      "133  Kungsbacka  16,32\n",
      "13         Täby  13,99\n",
      "21      Lidingö  12,35\n",
      "98     Vellinge  10,58\n",
      "\n",
      "[290 rows x 2 columns]\n"
     ]
    }
   ],
   "source": [
    "sorted_df = df.sort_values(by='S', ascending=False)\n",
    "municipal_S_votes = df.filter(items=['KOMMUNNAMN', 'S']).sort_values(by='S',  ascending=False)\n",
    "print(municipal_S_votes)"
   ]
  },
  {
   "cell_type": "markdown",
   "id": "bfcb52d8-3ccf-4f51-96c2-fcccc298b37b",
   "metadata": {},
   "source": [
    "We see that Munkfors is in the top percentage of social democratic voters."
   ]
  },
  {
   "cell_type": "markdown",
   "id": "b9b42047-2d59-44dc-a224-fe33c394a5c4",
   "metadata": {},
   "source": [
    "### Highest participation municipalities\n",
    "\n",
    "We note that voting participation is a column of its own 'VALDELTAGANDE' and so we filter the data frame based on municipality & voting participation and sort in descending order. We then choose the top 3."
   ]
  },
  {
   "cell_type": "code",
   "execution_count": 10,
   "id": "d1f60a4a-4140-467e-9915-918e1a43059e",
   "metadata": {
    "tags": []
   },
   "outputs": [
    {
     "name": "stdout",
     "output_type": "stream",
     "text": [
      "    KOMMUNNAMN VALDELTAGANDE\n",
      "103      Lomma         93,86\n",
      "59        Habo         93,35\n",
      "98    Vellinge         93,13\n"
     ]
    }
   ],
   "source": [
    "top_participants = df.filter(items=\n",
    "                             ['KOMMUNNAMN', 'VALDELTAGANDE']).sort_values(by=\n",
    "                                                                          'VALDELTAGANDE',\n",
    "                                                                          ascending=False)\n",
    "top_3_participants = top_participants[0:3]\n",
    "print(top_3_participants)"
   ]
  },
  {
   "cell_type": "markdown",
   "id": "54ce3fde-6d7f-4d26-ade1-098492183d9b",
   "metadata": {},
   "source": [
    "We can see that Lomma, Habo and Vellinge has the highest voting participation percentage."
   ]
  },
  {
   "cell_type": "markdown",
   "id": "d6252b90-6704-4ab4-b913-f6bd1509c299",
   "metadata": {},
   "source": [
    "## Stroke data\n",
    "\n",
    "We read the csv-file and print the columns of the dataframe."
   ]
  },
  {
   "cell_type": "code",
   "execution_count": 11,
   "id": "849dee5b-baeb-447a-8346-944c64fdf74d",
   "metadata": {
    "tags": []
   },
   "outputs": [
    {
     "name": "stdout",
     "output_type": "stream",
     "text": [
      "Index(['id', 'gender', 'age', 'hypertension', 'heart_disease', 'ever_married',\n",
      "       'work_type', 'Residence_type', 'avg_glucose_level', 'bmi',\n",
      "       'smoking_status', 'stroke'],\n",
      "      dtype='object')\n"
     ]
    }
   ],
   "source": [
    "df = pd.read_csv('stroke-data.csv')\n",
    "print(df.columns)"
   ]
  },
  {
   "cell_type": "markdown",
   "id": "726ad414-72eb-4afa-a37b-80c61595b6e4",
   "metadata": {},
   "source": [
    "We decide to investigate the relationship between age and stroke percentage. We group by age and sum the stroke occurences for each age. We then divide that number by total number of people in the age group to get the fraction and multiply by a hundred to represent the fraction as a percentage."
   ]
  },
  {
   "cell_type": "code",
   "execution_count": 12,
   "id": "b11116e1-4317-4989-870c-049c55af90de",
   "metadata": {
    "tags": []
   },
   "outputs": [
    {
     "name": "stdout",
     "output_type": "stream",
     "text": [
      "age\n",
      "0.08      0.000000\n",
      "0.16      0.000000\n",
      "0.24      0.000000\n",
      "0.32      0.000000\n",
      "0.40      0.000000\n",
      "           ...    \n",
      "78.00    20.588235\n",
      "79.00    20.000000\n",
      "80.00    24.285714\n",
      "81.00    23.333333\n",
      "82.00    16.071429\n",
      "Length: 104, dtype: float64\n"
     ]
    }
   ],
   "source": [
    "age_stroke = (df.groupby('age')['stroke'].sum() / df['age'].value_counts()) * 100\n",
    "print(age_stroke)"
   ]
  },
  {
   "cell_type": "markdown",
   "id": "6443cbe1-e6b0-4ef2-b03c-cdf89822186b",
   "metadata": {},
   "source": [
    "Since the output is a series we change it back into a dataframe and rename the columns appropriately."
   ]
  },
  {
   "cell_type": "code",
   "execution_count": 13,
   "id": "b3f50873-adff-4d04-9dbd-faf08aa267a1",
   "metadata": {
    "tags": []
   },
   "outputs": [
    {
     "name": "stdout",
     "output_type": "stream",
     "text": [
      "       age  stroke percent\n",
      "0     0.08        0.000000\n",
      "1     0.16        0.000000\n",
      "2     0.24        0.000000\n",
      "3     0.32        0.000000\n",
      "4     0.40        0.000000\n",
      "..     ...             ...\n",
      "99   78.00       20.588235\n",
      "100  79.00       20.000000\n",
      "101  80.00       24.285714\n",
      "102  81.00       23.333333\n",
      "103  82.00       16.071429\n",
      "\n",
      "[104 rows x 2 columns]\n"
     ]
    }
   ],
   "source": [
    "age_stroke = age_stroke.reset_index()\n",
    "age_stroke.columns = ['age', 'stroke percent']\n",
    "print(age_stroke)"
   ]
  },
  {
   "cell_type": "markdown",
   "id": "8e589c66-7d48-40ad-b6fc-ab30a3e6f7b4",
   "metadata": {},
   "source": [
    "In order to plot the dataframe we import seaborn and matplotlib."
   ]
  },
  {
   "cell_type": "code",
   "execution_count": 23,
   "id": "5ed19095-4f2f-40c1-9ba2-f65d584ff7c3",
   "metadata": {
    "tags": []
   },
   "outputs": [],
   "source": [
    "import seaborn as sns\n",
    "import matplotlib.pyplot as plt"
   ]
  },
  {
   "cell_type": "markdown",
   "id": "a8948ca8-6509-4c2c-bc2e-b2effc06ad47",
   "metadata": {},
   "source": [
    "We now proceed to create a plot and choose a scatterplot to visualise the relationship."
   ]
  },
  {
   "cell_type": "code",
   "execution_count": 24,
   "id": "3b41754d-edec-4757-9c80-130c63b2e761",
   "metadata": {
    "tags": []
   },
   "outputs": [
    {
     "data": {
      "image/png": "[encoded data removed]",
      "text/plain": [
       "<Figure size 640x480 with 1 Axes>"
      ]
     },
     "metadata": {},
     "output_type": "display_data"
    }
   ],
   "source": [
    "sns.set_style(\"darkgrid\")\n",
    "plt.figure()\n",
    "sns.scatterplot(data=age_stroke, x='age', y='stroke percent')\n",
    "plt.title('Stroke percent by age')\n",
    "plt.show()"
   ]
  },
  {
   "cell_type": "markdown",
   "id": "d10ed80d-32f1-478d-bab0-3316f3a7ce20",
   "metadata": {},
   "source": [
    "Based on the plot it seems that the stroke percentage increases as age increases."
   ]
  },
  {
   "cell_type": "code",
   "execution_count": null,
   "id": "ac419892-5094-409d-a462-62fbc9055c7b",
   "metadata": {},
   "outputs": [],
   "source": []
  }
 ],
 "metadata": {
  "kernelspec": {
   "display_name": "Python 3 (ipykernel)",
   "language": "python",
   "name": "python3"
  },
  "language_info": {
   "codemirror_mode": {
    "name": "ipython",
    "version": 3
   },
   "file_extension": ".py",
   "mimetype": "text/x-python",
   "name": "python",
   "nbconvert_exporter": "python",
   "pygments_lexer": "ipython3",
   "version": "3.13.0"
  }
 },
 "nbformat": 4,
 "nbformat_minor": 5
}
